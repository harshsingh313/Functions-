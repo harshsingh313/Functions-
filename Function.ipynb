{
  "nbformat": 4,
  "nbformat_minor": 0,
  "metadata": {
    "colab": {
      "provenance": []
    },
    "kernelspec": {
      "name": "python3",
      "display_name": "Python 3"
    },
    "language_info": {
      "name": "python"
    }
  },
  "cells": [
    {
      "cell_type": "markdown",
      "source": [
        "Theory Questions"
      ],
      "metadata": {
        "id": "BPt39fT_2x9a"
      }
    },
    {
      "cell_type": "markdown",
      "source": [
        "Q1. What is the difference between a function and a method in Python?\n",
        "\n",
        "Ans The difference between function and method are:-\n",
        "Function:- A function in Python is a reusable block of code that performs a specific task and is defined using the def keyword. Functions exist independently, meaning they can be called anywhere in the program without being tied to an object or class. They accept arguments, execute logic, and return a value if needed. For example, a simple function that adds two numbers can be written as def add(a, b): return a + b, which allows the function to be invoked with different inputs to produce results. Functions promote modularity and reduce code repetition, making programs more readable and maintainable.\n",
        "\n",
        "Method:- A method, on the other hand, is a function that is defined within a class and is associated with an instance or the class itself. Instance methods require self as the first parameter, allowing them to access and modify object attributes, while class methods use cls to interact with class-level properties. Methods are called using dot notation on an object, such as object.method(), making them essential for encapsulation and object-oriented programming. For example, in a Person class, a method like def greet(self): return f\"Hello, {self.name}!\" allows each instance to have its own behavior, making methods a crucial part of structuring and organizing code within classes."
      ],
      "metadata": {
        "id": "eQfTvABg3H_t"
      }
    },
    {
      "cell_type": "markdown",
      "source": [
        "Q2 Explain the concept of function arguments and parameters in Python.\n",
        "Ans: function parameters and arguments are key components that allow functions to work flexibly with different inputs. A parameter is a variable listed inside the parentheses in a function definition, acting as a placeholder for values that will be passed when the function is called. An argument is the actual value supplied to the function when it is invoked. Python allows different types of arguments, including positional arguments, keyword arguments, default arguments, and variable-length arguments, each serving a specific purpose in function execution.\n",
        "For example:-  in the function def greet(name): return f\"Hello, {name}!\", name is a parameter, and when we call greet(\"Alice\"), \"Alice\" is the argument. Parameters enable functions to be adaptable and reusable, making code more efficient and structured."
      ],
      "metadata": {
        "id": "92AodxXk5R-C"
      }
    },
    {
      "cell_type": "markdown",
      "source": [
        "Q3 What are the different ways to define and call a function in Python?\n",
        "\n",
        "Ans  In Python, functions can be defined and called in multiple ways, each serving different purposes and levels of flexibility.\n",
        "Defining Functions\n",
        "- Standard Functions (def): The most common way to define a function using the def keyword. It allows you to create reusable blocks of code.\n",
        "\n",
        "- Lambda Functions: Anonymous functions that are useful for small, single-line operations.\n",
        "\n",
        "- Functions with *args: Used when the number of arguments is uncertain. It collects multiple arguments into a tuple.\n",
        "\n",
        "- Functions with **kwargs: Accepts keyword arguments in the form of a dictionary, making function calls more dynamic.\n",
        "\n",
        "- Nested Functions: Functions within functions help maintain modular code and control scope.\n",
        "\n",
        "- Default Argument Functions: Provide default values if no argument is passed, making function calls more flexible.\n",
        "\n",
        "Calling Functions\n",
        "\n",
        "- Calling Standard Functions: Simply using the function name with appropriate arguments.\n",
        "- Calling Lambda Functions: Works similarly to standard functions, but without a formal name.\n",
        "- Calling Functions with *args and **kwargs: Pass multiple arguments dynamically.\n",
        "- Calling Nested Functions: Allows internal functions to be executed within a parent function.\n",
        "- Calling Functions with Default Arguments: Can be invoked without explicitly passing parameters, using default values.\n"
      ],
      "metadata": {
        "id": "UyRneJgCEkGP"
      }
    },
    {
      "cell_type": "markdown",
      "source": [
        "Q4  What is the purpose of the `return` statement in a Python function?\n",
        "\n",
        "Ans The return statement in Python is used to send back a value from a function to the calling code. It serves several important purposes:\n",
        "- Returning Results: Allows functions to produce output that can be used elsewhere in the program.\n",
        "- Ending Function Execution: Once a return statement is reached, the function stops executing, and control goes back to the caller.\n",
        "- Returning Multiple Values: Python allows returning multiple values as a tuple, making functions more flexible.\n",
        "- Improving Code Reusability: Functions that return values can be reused in different contexts without modifying the function itself\n"
      ],
      "metadata": {
        "id": "gcbg4_laIBaO"
      }
    },
    {
      "cell_type": "code",
      "source": [
        "def add(a, b):\n",
        "    return a + b\n",
        "\n",
        "result = add(5, 3)\n",
        "print(result)"
      ],
      "metadata": {
        "id": "bePisxADIf8q",
        "colab": {
          "base_uri": "https://localhost:8080/"
        },
        "outputId": "37d57025-c122-4f57-b1fe-768d696306af"
      },
      "execution_count": null,
      "outputs": [
        {
          "output_type": "stream",
          "name": "stdout",
          "text": [
            "8\n"
          ]
        }
      ]
    },
    {
      "cell_type": "markdown",
      "source": [
        "Q5  What are iterators in Python and how do they differ from iterables?\n",
        "\n",
        "Ans In Python, iterators and iterables are closely related but serve different roles in looping over data.\n",
        "\n",
        "#Iterables:-\n",
        "An iterable is any object that can return its elements one at a time. Common examples include lists, tuples, dictionaries, sets, and even strings. These objects have a built-in method called __iter__(), which allows them to be looped over using constructs like for loops.\n",
        "\n",
        "#Iterators:-\n",
        "An iterator, on the other hand, is an object that keeps track of where it is in an iterable and can return the next value when requested. It implements both:\n",
        "- __iter__() (which returns the iterator itself)\n",
        "- __next__() (which returns the next element and raises StopIteration when there are no more elements left)\n"
      ],
      "metadata": {
        "id": "MQhrrCgtKcMC"
      }
    },
    {
      "cell_type": "markdown",
      "source": [
        "Q6  Explain the concept of generators in Python and how they are defined.\n",
        "\n",
        "Ans A generator is a function that yields values instead of returning them all at once. Unlike regular functions, which compute and return results immediately, generators produce values one at a time, pausing execution until the next value is requested. This makes them ideal for large or infinite sequences where storing all values at once isn’t practical.\n",
        "\n",
        "Generators are defined using functions that contain the yield keyword instead of return. The key characteristics of a generator function:\n",
        "- It contains one or more yield statements.\n",
        "- It does not return all values at once—it yields them one by one.\n",
        "- It automatically implements the __iter__() and __next__() methods.\n",
        "- It remembers its state between successive calls.\n",
        "\n",
        "Example:-"
      ],
      "metadata": {
        "id": "a-GswxSmLekT"
      }
    },
    {
      "cell_type": "code",
      "source": [
        "def countdown(n):\n",
        "    while n > 0:\n",
        "        yield n\n",
        "        n -= 1\n",
        "gen = countdown(3)\n",
        "print(next(gen))\n",
        "print(next(gen))\n",
        "print(next(gen))"
      ],
      "metadata": {
        "colab": {
          "base_uri": "https://localhost:8080/"
        },
        "id": "U3asb7VANrZ6",
        "outputId": "f6fe04b7-9b13-4bda-b6fc-5f6d39578442"
      },
      "execution_count": null,
      "outputs": [
        {
          "output_type": "stream",
          "name": "stdout",
          "text": [
            "3\n",
            "2\n",
            "1\n"
          ]
        }
      ]
    },
    {
      "cell_type": "markdown",
      "source": [
        "Q7 What are the advantages of using generators over regular functions?\n",
        "\n",
        "Ans The advantages of using generators over regular functions in Python:\n",
        "- Memory Efficiency – Uses less memory since it yields values one at a time instead of storing them all at once\n",
        "\n",
        "- Lazy Evaluation – Computes values only when needed, making execution more efficient\n",
        "\n",
        "- Simplified Code – Avoids the complexity of writing iterator classes—just use yield\n",
        "\n",
        "- Can Handle Infinite Sequences – Can produce values indefinitely, which is impossible with regular functions\n",
        "\n",
        "- Better Performance – Ideal for processing large data sets without loading them into memory\n",
        "\n",
        "- Efficient File Handling – Reads files line by line instead of storing the whole file in memory\n",
        "\n",
        "- Preserves State – Remembers where execution paused, resuming exactly where it left off"
      ],
      "metadata": {
        "id": "NwGnL9VFOGVP"
      }
    },
    {
      "cell_type": "markdown",
      "source": [
        "Q8  What is a lambda function in Python and when is it typically used?\n",
        "\n",
        "Ans A lambda function in Python is a small, anonymous function that can have any number of arguments but only one expression. It's defined using the lambda keyword and is typically used for short, simple operations without needing a full function definition.\n",
        "\n",
        "This is typically used:-\n",
        "\n",
        "1. Higher-Order Functions (map, filter, reduce)\n",
        "Lambda functions make it easy to pass short functions as arguments to functions like map(), filter(), and reduce().\n",
        "\n",
        "2. Sorting with Custom Keys\n",
        "Lambda functions are commonly used in sorted(), min(), and max() when sorting lists based on specific criteria.\n",
        "\n",
        "3. Quick One-Liner Functions\n",
        "Instead of defining a full function, lambda functions allow quick inline operations.\n",
        "\n",
        "4. Using with Data Structures (like dictionaries)\n",
        "Lambda functions can be helpful when working with dictionaries."
      ],
      "metadata": {
        "id": "86F-J86MOwbR"
      }
    },
    {
      "cell_type": "markdown",
      "source": [
        "Q8 Explain the purpose and usage of the `map()` function in Python\n",
        "Ans The map() function is used to apply a specific function to every item in an iterable (like a list, tuple, or set). It helps you transform data without writing a loop."
      ],
      "metadata": {
        "id": "gnJznXreQ8FH"
      }
    },
    {
      "cell_type": "markdown",
      "source": [],
      "metadata": {
        "id": "sGvNRrmWzTqB"
      }
    },
    {
      "cell_type": "markdown",
      "source": [
        "Q10What is the difference between `map()`, `reduce()`, and `filter()` functions in Python\n",
        "Ans # Difference Between map(), filter(), and reduce() in Python\n",
        "\n",
        "# 1. map(): Applies a function to each item in an iterable and returns a new iterable (map object).\n",
        "# Syntax: map(function, iterable)\n",
        "\n",
        "# Example:\n",
        "numbers = [1, 2, 3, 4]\n",
        "squared = list(map(lambda x: x**2, numbers))\n",
        "print(squared)  # Output: [1, 4, 9, 16]\n",
        "\n",
        "\n",
        "# 2. filter(): Filters items in an iterable based on a condition (function that returns True/False).\n",
        "# Syntax: filter(function, iterable)\n",
        "\n",
        "# Example:\n",
        "numbers = [1, 2, 3, 4, 5]\n",
        "even = list(filter(lambda x: x % 2 == 0, numbers))\n",
        "print(even)  # Output: [2, 4]\n",
        "\n",
        "\n",
        "# 3. reduce(): Applies a function cumulatively to the items in an iterable, reducing it to a single value.\n",
        "# Syntax: reduce(function, iterable)\n",
        "# Note: You must import reduce from functools.\n",
        "\n",
        "from functools import reduce\n",
        "\n",
        "# Example:\n",
        "numbers = [1, 2, 3, 4]\n",
        "product = reduce(lambda x, y: x * y, numbers)\n",
        "print(product)  # Output: 24\n",
        "\n",
        "\n",
        "# Summary Table (for reference)\n",
        "\n",
        "# Function   | Purpose                          | Returns         | Example Use Case\n",
        "# -----------|----------------------------------|------------------|-------------------------\n",
        "# map()      | Transform each item              | New iterable     | Square each number\n",
        "# filter()   | Select items by condition        | Filtered iterable| Keep only even numbers\n",
        "# reduce()   | Combine items cumulatively       | Single value     | Multiply all numbers\n"
      ],
      "metadata": {
        "id": "UIHgV-12z1uM"
      }
    },
    {
      "cell_type": "markdown",
      "source": [
        "Q11 Using pen & Paper write the internal mechanism for sum operation using  reduce function on this given list:[47,11,42,13];\n",
        "Ans # Internal Mechanism of reduce() for Sum Operation\n",
        "# List: [47, 11, 42, 13]\n",
        "\n",
        "# Step 1: Import reduce from functools\n",
        "from functools import reduce\n",
        "\n",
        "# Step 2: Define the operation (sum)\n",
        "def add(x, y):\n",
        "    return x + y\n",
        "\n",
        "# Step 3: Apply reduce\n",
        "result = reduce(add, [47, 11, 42, 13])\n",
        "\n",
        "# Internal Steps:\n",
        "# reduce(add, [47, 11, 42, 13])\n",
        "# → Step 1: add(47, 11) = 58\n",
        "# → Step 2: add(58, 42) = 100\n",
        "# → Step 3: add(100, 13) = 113\n",
        "\n",
        "# Final Result:\n",
        "print(result)  # Output: 113\n"
      ],
      "metadata": {
        "id": "8lEIPWKZ0gu-"
      }
    },
    {
      "cell_type": "code",
      "source": [
        "# ✅ 1. Sum of all even numbers in a list\n",
        "def sum_even(numbers):\n",
        "    return sum(filter(lambda x: x % 2 == 0, numbers))\n",
        "\n",
        "print(sum_even([1, 2, 3, 4, 5, 6]))  # Output: 12\n",
        "\n",
        "\n",
        "# ✅ 2. Reverse a string\n",
        "def reverse_string(s):\n",
        "    return s[::-1]\n",
        "\n",
        "print(reverse_string(\"Harsh\"))  # Output: hsraH\n",
        "\n",
        "\n",
        "# ✅ 3. Squares of each number in a list\n",
        "def square_list(lst):\n",
        "    return [x**2 for x in lst]\n",
        "\n",
        "print(square_list([1, 2, 3, 4]))  # Output: [1, 4, 9, 16]\n",
        "\n",
        "\n",
        "# ✅ 4. Check if a number is prime (1 to 200)\n",
        "def is_prime(n):\n",
        "    if n < 2:\n",
        "        return False\n",
        "    for i in range(2, int(n**0.5)+1):\n",
        "        if n % i == 0:\n",
        "            return False\n",
        "    return True\n",
        "\n",
        "# Print primes from 1 to 200\n",
        "primes = [x for x in range(1, 201) if is_prime(x)]\n",
        "print(primes)\n",
        "\n",
        "\n",
        "# ✅ 5. Iterator class for Fibonacci sequence\n",
        "class Fibonacci:\n",
        "    def __init__(self, terms):\n",
        "        self.terms = terms\n",
        "        self.a, self.b = 0, 1\n",
        "        self.count = 0\n",
        "\n",
        "    def __iter__(self):\n",
        "        return self\n",
        "\n",
        "    def __next__(self):\n",
        "        if self.count < self.terms:\n",
        "            value = self.a\n",
        "            self.a, self.b = self.b, self.a + self.b\n",
        "            self.count += 1\n",
        "            return value\n",
        "        else:\n",
        "            raise StopIteration\n",
        "\n",
        "# Example usage\n",
        "for num in Fibonacci(10):\n",
        "    print(num, end=' ')  # Output: 0 1 1 2 3 5 8 13 21 34\n",
        "\n",
        "\n",
        "# ✅ 6. Generator for powers of 2\n",
        "def powers_of_two(n):\n",
        "    for i in range(n + 1):\n",
        "        yield 2 ** i\n",
        "\n",
        "print(list(powers_of_two(5)))  # Output: [1, 2, 4, 8, 16, 32]\n",
        "\n",
        "\n",
        "# ✅ 7. Generator to read file line by line\n",
        "def read_file_lines(filename):\n",
        "    with open(filename, 'r') as file:\n",
        "        for line in file:\n",
        "            yield line.strip()\n",
        "\n",
        "# Example usage (uncomment if file exists)\n",
        "# for line in read_file_lines(\"example.txt\"):\n",
        "#     print(line)\n",
        "\n",
        "\n",
        "# ✅ 8. Sort list of tuples by second element using lambda\n",
        "data = [(1, 3), (2, 1), (3, 2)]\n",
        "sorted_data = sorted(data, key=lambda x: x[1])\n",
        "print(sorted_data)  # Output: [(2, 1), (3, 2), (1, 3)]\n",
        "\n",
        "\n",
        "# ✅ 9. Convert Celsius to Fahrenheit using map\n",
        "celsius = [0, 10, 20, 30, 40]\n",
        "fahrenheit = list(map(lambda c: (c * 9/5) + 32, celsius))\n",
        "print(fahrenheit)  # Output: [32.0, 50.0, 68.0, 86.0, 104.0]\n",
        "\n",
        "\n",
        "# ✅ 10. Remove vowels from a string using filter\n",
        "def remove_vowels(s):\n",
        "    vowels = 'aeiouAEIOU'\n",
        "    return ''.join(filter(lambda x: x not in vowels, s))\n",
        "\n",
        "print(remove_vowels(\"Harsh Vardhan Singh\"))  # Output: Hrsh Vrdhn Sngh\n",
        "\n",
        "\n",
        "# ✅ 11. Bookshop accounting routine using lambda and map\n",
        "orders = [\n",
        "    [101, 2, 45.00],\n",
        "    [102, 1, 120.00],\n",
        "    [103, 4, 20.00]\n",
        "]\n",
        "\n",
        "# Format: [order_no, quantity, price_per_item]\n",
        "result = list(map(lambda x: (x[0], x[1]*x[2] + (10 if x[1]*x[2] < 100 else 0)), orders))\n",
        "print(result)\n",
        "# Output: [(101, 100.0), (102, 120.0), (103, 90.0)]\n"
      ],
      "metadata": {
        "colab": {
          "base_uri": "https://localhost:8080/"
        },
        "id": "9la2IheQ2FNg",
        "outputId": "a9fca562-eaab-4c1b-fd38-aa55a5f6d869"
      },
      "execution_count": 1,
      "outputs": [
        {
          "output_type": "stream",
          "name": "stdout",
          "text": [
            "12\n",
            "hsraH\n",
            "[1, 4, 9, 16]\n",
            "[2, 3, 5, 7, 11, 13, 17, 19, 23, 29, 31, 37, 41, 43, 47, 53, 59, 61, 67, 71, 73, 79, 83, 89, 97, 101, 103, 107, 109, 113, 127, 131, 137, 139, 149, 151, 157, 163, 167, 173, 179, 181, 191, 193, 197, 199]\n",
            "0 1 1 2 3 5 8 13 21 34 [1, 2, 4, 8, 16, 32]\n",
            "[(2, 1), (3, 2), (1, 3)]\n",
            "[32.0, 50.0, 68.0, 86.0, 104.0]\n",
            "Hrsh Vrdhn Sngh\n",
            "[(101, 100.0), (102, 120.0), (103, 90.0)]\n"
          ]
        }
      ]
    },
    {
      "cell_type": "code",
      "source": [],
      "metadata": {
        "id": "5xdNZvcQ03D5"
      },
      "execution_count": null,
      "outputs": []
    }
  ]
}